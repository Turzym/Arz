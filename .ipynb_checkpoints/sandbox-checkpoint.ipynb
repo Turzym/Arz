{
 "cells": [
  {
   "cell_type": "code",
   "execution_count": 64,
   "metadata": {},
   "outputs": [],
   "source": [
    "import math, time, random\n",
    "from matplotlib import pyplot as plt\n",
    "import numpy as np"
   ]
  },
  {
   "cell_type": "code",
   "execution_count": 38,
   "metadata": {
    "scrolled": true
   },
   "outputs": [
    {
     "name": "stdout",
     "output_type": "stream",
     "text": [
      "1000\n",
      "0.0009975433349609375\n"
     ]
    }
   ],
   "source": [
    "ammount = int(input())\n",
    "\n",
    "primes = [0] * ammount\n",
    "prime_nums = []\n",
    "\n",
    "start = time.time()\n",
    "for i in range(2, int(math.sqrt(ammount))):\n",
    "    if primes[i] == 0:\n",
    "        for j in range(i*2,ammount//i):\n",
    "            primes[j*i] = 1\n",
    "            \n",
    "for i in range(2, ammount):\n",
    "    if primes[i] == 0:\n",
    "        prime_nums.extend([i])\n",
    "finish = time.time()\n",
    "\n",
    "x = [i for i in range(0,ammount/100+1)]\n",
    "y = [0] * ammaount / 100 + 1\n",
    "\n",
    "\n",
    "print(finish - start)"
   ]
  },
  {
   "cell_type": "code",
   "execution_count": 14,
   "metadata": {},
   "outputs": [
    {
     "name": "stdout",
     "output_type": "stream",
     "text": [
      "1 2 3 4 5\n",
      "{1, 2, 3, 4, 5}\n"
     ]
    }
   ],
   "source": [
    "a = set(map(int, input().strip().split()))\n",
    "\n",
    "print(a)"
   ]
  },
  {
   "cell_type": "code",
   "execution_count": 171,
   "metadata": {},
   "outputs": [
    {
     "data": {
      "text/plain": [
       "[<matplotlib.lines.Line2D at 0x22dfff78608>]"
      ]
     },
     "execution_count": 171,
     "metadata": {},
     "output_type": "execute_result"
    },
    {
     "data": {
      "image/png": "[encoded data removed]",
      "text/plain": [
       "<Figure size 432x288 with 1 Axes>"
      ]
     },
     "metadata": {
      "needs_background": "light"
     },
     "output_type": "display_data"
    }
   ],
   "source": [
    "x = [i for i in range(0,100)]\n",
    "pure = np.linspace(-1,1,5)\n",
    "noise = np.random.normal(0,2, pure.shape)\n",
    "signal = pure + noise\n",
    "\n",
    "y_1 = [0] * 100\n",
    "for i in range(5):\n",
    "    for j in range(i*20,i*20+20):\n",
    "        y_1[j] = signal[i]\n",
    "        \n",
    "pure = np.linspace(1,-1,20)\n",
    "noise = np.random.normal(0,0.8, pure.shape)\n",
    "signal = pure + noise\n",
    "\n",
    "\n",
    "y_2 = [0] * 100\n",
    "for i in range(20):\n",
    "    for j in range(i*5,i*5+5):\n",
    "        y_2[j] = signal[i]\n",
    "        \n",
    "pure = np.linspace(-1,1,100)\n",
    "noise = np.random.normal(0,0.1, pure.shape)\n",
    "signal = pure + noise\n",
    "\n",
    "y_3 = [0] * 100\n",
    "for i in range(100):\n",
    "    for j in range(i*1,i*1+1):\n",
    "        y_3[j] = signal[i]\n",
    "               \n",
    "for i in range(100):\n",
    "    y_2[i] += y_1[i] + y_3[i]\n",
    "        \n",
    "plt.plot(x,y_2)"
   ]
  },
  {
   "cell_type": "code",
   "execution_count": null,
   "metadata": {},
   "outputs": [],
   "source": []
  },
  {
   "cell_type": "code",
   "execution_count": null,
   "metadata": {},
   "outputs": [],
   "source": []
  }
 ],
 "metadata": {
  "kernelspec": {
   "display_name": "Python 3",
   "language": "python",
   "name": "python3"
  },
  "language_info": {
   "codemirror_mode": {
    "name": "ipython",
    "version": 3
   },
   "file_extension": ".py",
   "mimetype": "text/x-python",
   "name": "python",
   "nbconvert_exporter": "python",
   "pygments_lexer": "ipython3",
   "version": "3.7.4"
  }
 },
 "nbformat": 4,
 "nbformat_minor": 2
}
